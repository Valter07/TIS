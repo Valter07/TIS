{
 "cells": [
  {
   "cell_type": "code",
   "execution_count": 7,
   "metadata": {},
   "outputs": [
    {
     "name": "stdout",
     "output_type": "stream",
     "text": [
      "Escriba el primer texto: \n",
      "trágatelo ágilmente únicamente pacíficamente\n",
      "\n",
      "\n",
      "Escriba el segundo texto: \n",
      "entrega violencia fuera código véndemelo\n",
      "\n",
      "\n",
      "Hay 4 sobreesdrujula en el texto 1\n",
      "Hay 1 sobreesdrujula en el texto 2\n"
     ]
    }
   ],
   "source": [
    "#Dado dos textos de no más de 200 palabras diferentes en cada texto, \n",
    "#encontrar el número de palabras sobreesdrújulas e imprimirlo en pantalla\n",
    "\n",
    "texto1 = input('Escriba el primer texto: \\n')\n",
    "print('\\n')\n",
    "texto2 = input('Escriba el segundo texto: \\n')\n",
    "print('\\n')\n",
    "\n",
    "palabraTexto1 = texto1.split(\" \")\n",
    "palabraTexto2 = texto2.split(\" \")\n",
    "\n",
    "#Las palabras sobreesdrujulas siempre tienen tilde y son en la 7ma letra\n",
    "\n",
    "def sobreesdrujula(palabra):\n",
    "    tilde = ['á', 'é', 'í', 'ó', 'ú']\n",
    "    nSobreesdrujulas = 0\n",
    "    \n",
    "    if(len(palabra) <= 200):\n",
    "        for i in range(len(palabra)):\n",
    "            aux = 5\n",
    "            for j in range(len(palabra[i])-1,-1,-1):\n",
    "                for k in range(len(tilde)):\n",
    "                    if(palabra[i][j].lower() != tilde[k].lower()):\n",
    "                        aux += 1\n",
    "                    elif(palabra[i][j].lower() == tilde[k].lower() and aux >= 35):\n",
    "                        nSobreesdrujulas += 1\n",
    "    else:\n",
    "        print(\"Hay mas de 200 palabras\")\n",
    "    \n",
    "    return nSobreesdrujulas\n",
    "\n",
    "def palabraDiferente(lista1, lista2):\n",
    "    palabraRepetida = False\n",
    "    for i in range(len(lista1)):\n",
    "        for j in range(len(lista2)):\n",
    "            if(lista1[i] == lista2[j]):\n",
    "                palabraRepetida = True\n",
    "    return palabraRepetida\n",
    "\n",
    "if(not(palabraDiferente(palabraTexto1, palabraTexto2))):\n",
    "    print(\"Hay\", sobreesdrujula(palabraTexto1), \"sobreesdrujula en el texto 1\")\n",
    "    print(\"Hay\", sobreesdrujula(palabraTexto2), \"sobreesdrujula en el texto 2\")\n",
    "else:\n",
    "    print(\"Hay palabras repetidas entre los textos\")"
   ]
  }
 ],
 "metadata": {
  "kernelspec": {
   "display_name": "Python 3",
   "language": "python",
   "name": "python3"
  },
  "language_info": {
   "codemirror_mode": {
    "name": "ipython",
    "version": 3
   },
   "file_extension": ".py",
   "mimetype": "text/x-python",
   "name": "python",
   "nbconvert_exporter": "python",
   "pygments_lexer": "ipython3",
   "version": "3.7.1"
  }
 },
 "nbformat": 4,
 "nbformat_minor": 2
}
